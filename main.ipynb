{
 "cells": [
  {
   "cell_type": "code",
   "execution_count": null,
   "metadata": {},
   "outputs": [],
   "source": [
    "#Setting 3 in the paper\n",
    "import numpy as np\n",
    "import torch\n",
    "import model.con_Lasso_layer as con_Lasso_layer\n",
    "import utils.utils as utils\n",
    "import scipy.stats as stats\n",
    "import scipy.sparse as sparse\n",
    "\n",
    "device = torch.device(\"cuda:0\")"
   ]
  },
  {
   "cell_type": "code",
   "execution_count": null,
   "metadata": {},
   "outputs": [],
   "source": [
    "n = 10\n",
    "total_number_batch = 200\n",
    "sample_size = n+1\n",
    "\n",
    "mean = np.zeros(n)\n",
    "\n",
    "#generate a sparse precision matrix, s.t. the summation of each row is 0; the absolute of off-diagonal elements <= 0.2\n",
    "rvs = stats.uniform().rvs    \n",
    "sparse_matrix = sparse.random(n, n, density=0.4, data_rvs=rvs)   \n",
    "upper_sparse_matrix = sparse.triu(sparse_matrix)\n",
    "precision = upper_sparse_matrix + upper_sparse_matrix.T - sparse.diags(sparse_matrix.diagonal())\n",
    "precision = precision.todense()\n",
    "precision = -precision*0.1\n",
    "\n",
    "diag = np.arange(n)\n",
    "row_sum = np.sum(precision, axis = 0)\n",
    "precision[diag, diag] = -row_sum\n",
    "#use precision matrix to generate covariance matrix\n",
    "cov = np.linalg.inv(precision)\n",
    "\n",
    "batch = []\n",
    "for i in range(total_number_batch):\n",
    "  sample = np.random.multivariate_normal(mean, cov, sample_size)\n",
    "  sample_cov = np.cov(sample, rowvar = False)\n",
    "  batch.append(sample_cov)\n",
    "  \n",
    "batch = np.array(batch)\n",
    "batch_array = batch.copy()\n",
    "batch = torch.from_numpy(batch)\n",
    "\n",
    "output = batch[1:,::]\n",
    "\n",
    "#Cholesky Decompositon\n",
    "L = []\n",
    "for i in range(total_number_batch-1):\n",
    "  L.append(np.linalg.cholesky(batch_array[i,::]))\n",
    "L = np.array(L)\n",
    "L = torch.from_numpy(L)\n",
    "\n",
    "batch = batch.unsqueeze(1)\n",
    "batch = batch.repeat(1,n,1,1)\n",
    "\n",
    "L = L.unsqueeze(1)\n",
    "L = L.repeat(1,n,1,1)\n",
    "\n",
    "Sigma = batch[:(total_number_batch-1),::]\n",
    "\n",
    "b = (-torch.eye(n).to(device)).unsqueeze(0)\n",
    "b = b.repeat(total_number_batch-1, 1, 1)\n",
    "\n",
    "data = {}\n",
    "data['Sigma'] = Sigma.float()\n",
    "data['b'] = b.float()\n",
    "data['L'] = L.float()\n",
    "data['output'] = output.float()"
   ]
  },
  {
   "cell_type": "code",
   "execution_count": null,
   "metadata": {},
   "outputs": [],
   "source": [
    "#create model\n",
    "config_model = {\n",
    "    \"hparams\": {\n",
    "        \"dim\": n,\n",
    "        \"max_abs\": 0.2,\n",
    "        \"lr\": 1e-3,\n",
    "        \"lam\": 0.1,\n",
    "        \"para_method_Sigma\": 1,\n",
    "        \"para_method_b\": 1 \n",
    "    },\n",
    "}\n",
    "model = con_Lasso_layer.Layer(config_model)\n",
    "\n",
    "trainer_cvx = utils.Trainer(model, data, device, batch_size = 1, max_epochs = 1, ite_val = 10)\n",
    "trainer_cvx.prepare_data()"
   ]
  },
  {
   "cell_type": "code",
   "execution_count": null,
   "metadata": {},
   "outputs": [],
   "source": [
    "#test without parameterized method\n",
    "trainer_cvx.test(load_state = False)"
   ]
  },
  {
   "cell_type": "code",
   "execution_count": null,
   "metadata": {},
   "outputs": [],
   "source": [
    "#train model\n",
    "trainer_cvx.fit()"
   ]
  },
  {
   "cell_type": "code",
   "execution_count": null,
   "metadata": {},
   "outputs": [],
   "source": [
    "#test model\n",
    "trainer_cvx.test()"
   ]
  }
 ],
 "metadata": {
  "kernelspec": {
   "display_name": "Python 3.9.7 64-bit",
   "language": "python",
   "name": "python3"
  },
  "language_info": {
   "codemirror_mode": {
    "name": "ipython",
    "version": 3
   },
   "file_extension": ".py",
   "mimetype": "text/x-python",
   "name": "python",
   "nbconvert_exporter": "python",
   "pygments_lexer": "ipython3",
   "version": "3.9.7"
  },
  "orig_nbformat": 4,
  "vscode": {
   "interpreter": {
    "hash": "3c7aec2c2b32360a17b1d9cead9ca37ae7a8f929862d77037a0c01f964bf0ab9"
   }
  }
 },
 "nbformat": 4,
 "nbformat_minor": 2
}
